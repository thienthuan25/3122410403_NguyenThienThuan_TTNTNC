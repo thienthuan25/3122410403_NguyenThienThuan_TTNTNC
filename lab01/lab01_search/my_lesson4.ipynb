{
 "cells": [
  {
   "cell_type": "markdown",
   "id": "0cfa247f-bf3f-4910-90dc-ae8ecb607964",
   "metadata": {},
   "source": [
    "# Buổi 4: Tìm kiếm trong không gian trạng thái"
   ]
  },
  {
   "cell_type": "markdown",
   "id": "48ace7ff-b7d1-4cf2-94da-a21d2d821112",
   "metadata": {},
   "source": [
    "### Bài 1. Biễu diễn đồ thị\n",
    "\n",
    "Cho đồ thị hàm số **G** (**V**, **E**) như bên dưới:\n",
    "\n",
    "![image](dothi.png)"
   ]
  },
  {
   "cell_type": "markdown",
   "id": "51164f9d-5d98-4361-b2c2-1fb23fd3704c",
   "metadata": {},
   "source": [
    "#### 1. Biễu diễn bằng danh sách / ma trận kề"
   ]
  },
  {
   "cell_type": "code",
   "execution_count": null,
   "id": "8715cbf5-d144-479d-9bb3-eb0be736fa12",
   "metadata": {},
   "outputs": [
    {
     "name": "stdout",
     "output_type": "stream",
     "text": [
      "{'A': {'D', 'F', 'C', 'E'},\n",
      " 'B': {},\n",
      " 'C': {'H'},\n",
      " 'D': {'H', 'E'},\n",
      " 'E': {'K', 'I'},\n",
      " 'F': {'G', 'I'},\n",
      " 'G': {},\n",
      " 'H': {'K'},\n",
      " 'I': {'K', 'B'},\n",
      " 'K': {'B'}}\n"
     ]
    }
   ],
   "source": [
    "nodes = ['A', 'B', 'C', 'D', 'E', 'F', 'G', 'H', 'I', 'K']\n",
    "\n",
    "edges = [\n",
    "    (\"A\", \"C\"), (\"A\", \"D\"), (\"A\", \"E\"), (\"A\", \"F\"),\n",
    "\n",
    "    (\"C\", \"H\"),\n",
    "    (\"D\", \"E\"), (\"D\", \"H\"),\n",
    "    (\"E\", \"K\"), (\"E\", \"I\"),\n",
    "    (\"F\", \"G\"), (\"F\", \"I\"),\n",
    "\n",
    "    (\"H\", \"K\"),\n",
    "    (\"K\", \"B\"),\n",
    "    (\"I\", \"B\"), (\"I\", \"K\")\n",
    "]\n",
    "\n",
    "ADJ = {node: {} for node in nodes}\n",
    "for u , v in edges:\n",
    "  if ADJ[u] == {}:\n",
    "    ADJ[u] = {v}\n",
    "  else:\n",
    "    ADJ[u].add(v)\n",
    "\n",
    "import pprint\n",
    "pprint.pprint(ADJ)"
   ]
  },
  {
   "cell_type": "markdown",
   "id": "c975f35c-f742-4ac2-be01-1fe53c94eadf",
   "metadata": {},
   "source": [
    "#### 2. Thao tác duyệt đồ thị\n",
    "(a) Liệt kê các đỉnh trong đồ thị <br/>\n",
    "(b) Liệt kê tất cả các cạnh đồ thị hiển thị dạng danh sách kề <br/>\n",
    "(c) Cho hai đỉnh A, B. Hỏi hai đỉnh A, B có kề nhau không? <br/>\n",
    "(d) Cho một đỉnh A. Hỏi danh sách các đỉnh kề với A <br/>"
   ]
  },
  {
   "cell_type": "code",
   "execution_count": 4,
   "id": "d286c1a6-ef93-4581-9f7e-96ea10020985",
   "metadata": {},
   "outputs": [
    {
     "name": "stdout",
     "output_type": "stream",
     "text": [
      "2. Thao tác duyệt đồ thị\n"
     ]
    }
   ],
   "source": [
    "print(\"2. Thao tác duyệt đồ thị\")"
   ]
  },
  {
   "cell_type": "code",
   "execution_count": 6,
   "id": "5faa6543-247a-4903-ba2a-9c1595af4f41",
   "metadata": {},
   "outputs": [
    {
     "name": "stdout",
     "output_type": "stream",
     "text": [
      "(a) Liệt kê các đỉnh trong đồ thị\n",
      "Các đỉnh của đồ thị: A B C D E F G H I K "
     ]
    }
   ],
   "source": [
    "print(\"(a) Liệt kê các đỉnh trong đồ thị\")\n",
    "print(\"Các đỉnh của đồ thị:\", end=\" \")\n",
    "for v in ADJ.keys():\n",
    "    print(v, end=\" \")\n"
   ]
  },
  {
   "cell_type": "code",
   "execution_count": 8,
   "id": "ea523328",
   "metadata": {},
   "outputs": [
    {
     "name": "stdout",
     "output_type": "stream",
     "text": [
      "(b) Liệt kê tất cả các cạnh đồ thị hiển thị dạng danh sách kể\n",
      "Danh sách kề của đồ thị: \n",
      "\n",
      "+ Đỉnh A: D, F, C, E, \n",
      "+ Đỉnh B: \n",
      "+ Đỉnh C: H, \n",
      "+ Đỉnh D: H, E, \n",
      "+ Đỉnh E: K, I, \n",
      "+ Đỉnh F: G, I, \n",
      "+ Đỉnh G: \n",
      "+ Đỉnh H: K, \n",
      "+ Đỉnh I: K, B, \n",
      "+ Đỉnh K: B, "
     ]
    }
   ],
   "source": [
    "print(\"(b) Liệt kê tất cả các cạnh đồ thị hiển thị dạng danh sách kể\")\n",
    "print(\"Danh sách kề của đồ thị: \")\n",
    "\n",
    "def HienThiDoThi(G):\n",
    "    for u in G.keys():\n",
    "        print(f\"\\n+ Đỉnh {u}: \", end=\"\")\n",
    "        for v in G[u]:\n",
    "            print(v, end=\", \")\n",
    "HienThiDoThi(ADJ)"
   ]
  },
  {
   "cell_type": "code",
   "execution_count": 9,
   "id": "6a6811d4",
   "metadata": {},
   "outputs": [
    {
     "name": "stdout",
     "output_type": "stream",
     "text": [
      "(c) Cho hai đỉnh A, B. Hỏi hai đỉnh A, B có kề nhau không?\n"
     ]
    }
   ],
   "source": [
    "print(\"(c) Cho hai đỉnh A, B. Hỏi hai đỉnh A, B có kề nhau không?\")\n",
    "\n",
    "def LaKe(G, a, b):\n",
    "    if a not in G or b not in G:\n",
    "        result = -1\n",
    "    elif b in G[a]:\n",
    "        result = 1\n",
    "    else:\n",
    "        result = 0\n",
    "    return result\n"
   ]
  },
  {
   "cell_type": "code",
   "execution_count": 10,
   "id": "14f55b6c",
   "metadata": {},
   "outputs": [
    {
     "name": "stdout",
     "output_type": "stream",
     "text": [
      "L ke R: -1\n",
      "A ke R: -1\n",
      "E ke D: 0\n",
      "D ke E: 1\n"
     ]
    }
   ],
   "source": [
    "a = \"L\"; b = \"R\"; print(f\"{a} ke {b}: {LaKe(ADJ, a, b)}\")\n",
    "a = \"A\"; b = \"R\"; print(f\"{a} ke {b}: {LaKe(ADJ, a, b)}\")\n",
    "a = \"E\"; b = \"D\"; print(f\"{a} ke {b}: {LaKe(ADJ, a, b)}\")\n",
    "a = \"D\"; b = \"E\"; print(f\"{a} ke {b}: {LaKe(ADJ, a, b)}\")"
   ]
  },
  {
   "cell_type": "code",
   "execution_count": 11,
   "id": "b605e081",
   "metadata": {},
   "outputs": [
    {
     "name": "stdout",
     "output_type": "stream",
     "text": [
      "(d) Cho một đỉnh A. Hỏi danh sách các đỉnh kề với A\n",
      "Danh sach ke voi dinh P: None\n",
      "Danh sach ke voi dinh A: ['D', 'F', 'C', 'E']\n",
      "Danh sach ke voi dinh B: []\n",
      "Danh sach ke voi dinh D: ['H', 'E']\n"
     ]
    }
   ],
   "source": [
    "print(\"(d) Cho một đỉnh A. Hỏi danh sách các đỉnh kề với A\")\n",
    "\n",
    "def LayKe(G, a):\n",
    "    if a not in G:\n",
    "        result = None\n",
    "    else:\n",
    "        result = list(G[a])\n",
    "    return result\n",
    "\n",
    "a = \"P\"; print(f\"Danh sach ke voi dinh {a}: {LayKe(ADJ, a)}\")\n",
    "a = \"A\"; print(f\"Danh sach ke voi dinh {a}: {LayKe(ADJ, a)}\")\n",
    "a = \"B\"; print(f\"Danh sach ke voi dinh {a}: {LayKe(ADJ, a)}\")\n",
    "a = \"D\"; print(f\"Danh sach ke voi dinh {a}: {LayKe(ADJ, a)}\")"
   ]
  },
  {
   "cell_type": "markdown",
   "id": "465a8fdb-f10f-47a9-91ab-1b23598fda4f",
   "metadata": {},
   "source": [
    "#### 3. Đọc và lưu đồ thị\n",
    "**dske.txt**\n",
    "```\n",
    "10           # số đỉnh đồ thị\n",
    "A C E F D    # đỉnh A kề với C E F D\n",
    "B            # đỉnh B không kề với ai\n",
    "C H\n",
    "D E H\n",
    "E K I\n",
    "F I G\n",
    "G\n",
    "H K\n",
    "I K B\n",
    "K B\n",
    "```"
   ]
  },
  {
   "cell_type": "code",
   "execution_count": 12,
   "id": "6480c88a",
   "metadata": {},
   "outputs": [
    {
     "name": "stdout",
     "output_type": "stream",
     "text": [
      "1. Lưu đồ thị xuống tập tin\n",
      "Lưu đồ thị thành công xuống tập tin: dske1.txt\n",
      "10\n",
      "A D F C E\n",
      "B \n",
      "C H\n",
      "D H E\n",
      "E K I\n",
      "F G I\n",
      "G \n",
      "H K\n",
      "I K B\n",
      "K B\n"
     ]
    }
   ],
   "source": [
    "print(\"1. Lưu đồ thị xuống tập tin\")\n",
    "\n",
    "def LuuDoThi(G, file_path, verbose = True):\n",
    "    import os\n",
    "    \n",
    "    # Tạo thư mục chưa file_path\n",
    "    file_dir = os.path.dirname(file_path)\n",
    "    if file_dir != \"\" and os.path.exists(file_path) == False:\n",
    "        os.makedirs(file_dir)\n",
    "        if verbose: print(f\"+ Tạo thư mục: {file_dir}\")\n",
    "\n",
    "    # Lưu đồ thị\n",
    "    with open(file_path, \"w\") as file:\n",
    "        # so dinh\n",
    "        file.write(f\"{len(G)}\\n\")\n",
    "        \n",
    "        for node, neighbors in G.items():\n",
    "            line = node + \" \" + \" \".join(neighbors) + \"\\n\"\n",
    "            file.write(line)\n",
    "        if verbose:\n",
    "            print(f\"Lưu đồ thị thành công xuống tập tin: {file_path}\")\n",
    "\n",
    "LuuDoThi(ADJ, \"dske1.txt\", verbose = True)\n",
    "with open(\"dske1.txt\", \"rt\") as file:\n",
    "    lines = file.readlines()\n",
    "    for line in lines:\n",
    "        print(line, end=\"\")\n",
    "    "
   ]
  },
  {
   "cell_type": "code",
   "execution_count": 13,
   "id": "1b5682ed",
   "metadata": {},
   "outputs": [
    {
     "name": "stdout",
     "output_type": "stream",
     "text": [
      "2. Đọc đồ thị từ tập tin\n",
      "{'A': {'D', 'F', 'C', 'E'},\n",
      " 'B': set(),\n",
      " 'C': {'H'},\n",
      " 'D': {'H', 'E'},\n",
      " 'E': {'K', 'I'},\n",
      " 'F': {'G', 'I'},\n",
      " 'G': set(),\n",
      " 'H': {'K'},\n",
      " 'I': {'K', 'B'},\n",
      " 'K': {'B'}}\n"
     ]
    }
   ],
   "source": [
    "print(\"2. Đọc đồ thị từ tập tin\")\n",
    "import pprint\n",
    "\n",
    "def DocDoThi(file_path, verbose=True):\n",
    "    import os\n",
    "\n",
    "    result = None\n",
    "    if os.path.exists(file_path) == False:\n",
    "        result = None\n",
    "    else:\n",
    "        G = {}\n",
    "        with open(file_path, \"rt\") as file:\n",
    "            n = int(file.readline().strip())\n",
    "\n",
    "            \"\"\"bai lam\"\"\"\n",
    "            for line in file:\n",
    "                parts = line.strip().split()\n",
    "                if not parts:\n",
    "                    continue\n",
    "                u = parts[0]\n",
    "                neighbors = set(parts[1: ])\n",
    "                G[u] = neighbors\n",
    "\n",
    "        result = G\n",
    "    return result\n",
    "G1 = DocDoThi('dske1.txt', verbose=True)\n",
    "pprint.pprint(G1)\n"
   ]
  },
  {
   "cell_type": "markdown",
   "id": "8197f40f-69af-489d-80b5-124c91427db6",
   "metadata": {},
   "source": [
    "### Bài 2. Tìm kiếm đường đi trên đồ thị"
   ]
  },
  {
   "cell_type": "markdown",
   "id": "43f12303-9ee9-4404-9ecb-f00a5f78e4ee",
   "metadata": {},
   "source": [
    "#### 1. Tìm kiếm theo chiều rộng (BFS)"
   ]
  },
  {
   "cell_type": "code",
   "execution_count": 20,
   "id": "0e4dcadb",
   "metadata": {},
   "outputs": [],
   "source": [
    "import pprint\n",
    "\n",
    "def BFS(G, start, goal):\n",
    "    \"\"\"\n",
    "    return: \n",
    "    + mang chua duong di tu a --> b, neu rong la ko co duong di\n",
    "    + None: dinh a, b khong hop le\n",
    "    \"\"\"\n",
    "    result = None\n",
    "    \n",
    "    if G.get(start) is None or G.get(goal) is None:\n",
    "        result = None\n",
    "    else:\n",
    "        path = {}     # path[a]=b nghia la muon di toi dinh b phai qua a\n",
    "        s_open   = []\n",
    "        s_closed = []\n",
    "        \n",
    "        # đưa start vào open\n",
    "        s_open.append(start)    \n",
    "        path[start] = None\n",
    "        while len(s_open)>0:\n",
    "            \"\"\" CÁC BẠN LÀM BÀI Ở ĐÂY \"\"\"\n",
    "            current = s_open.pop(0)\n",
    "            # if current == goal:\n",
    "            #     break\n",
    "            s_closed.append(current)\n",
    "\n",
    "            for neighbor in sorted(G[current], reverse=True):\n",
    "                if neighbor not in path:\n",
    "                    s_open.append(neighbor)\n",
    "                    path[neighbor] = current\n",
    "        return path\n",
    "    \n",
    "        pass\n",
    "    \n",
    "    return path"
   ]
  },
  {
   "cell_type": "code",
   "execution_count": 21,
   "id": "26823fb9",
   "metadata": {},
   "outputs": [
    {
     "name": "stdout",
     "output_type": "stream",
     "text": [
      "{'A': None,\n",
      " 'B': 'I',\n",
      " 'C': 'A',\n",
      " 'D': 'A',\n",
      " 'E': 'A',\n",
      " 'F': 'A',\n",
      " 'G': 'F',\n",
      " 'H': 'D',\n",
      " 'I': 'F',\n",
      " 'K': 'E'}\n"
     ]
    }
   ],
   "source": [
    "path = BFS(ADJ, \"A\", \"B\")\n",
    "pprint.pprint(path)"
   ]
  },
  {
   "cell_type": "code",
   "execution_count": 22,
   "id": "cd05574f-d2fa-4f71-80b2-1f9c5b45f945",
   "metadata": {},
   "outputs": [],
   "source": [
    "def find_path(path, start, goal):\n",
    "    \"\"\"\n",
    "    Cho mang truy hoi duong, tim ds dinh tu start --> goal\n",
    "    \"\"\"\n",
    "    result = []\n",
    "    \n",
    "    \"\"\" CÁC BẠN LÀM BÀI Ở ĐÂY \"\"\"\n",
    "    if start not in path or goal not in path:\n",
    "        return result\n",
    "    \n",
    "    current = goal\n",
    "    while current is not None:\n",
    "        result.append(current)\n",
    "        current = path.get(current)\n",
    "\n",
    "    result.reverse()\n",
    "    \n",
    "    return result\n",
    "    pass"
   ]
  },
  {
   "cell_type": "code",
   "execution_count": 23,
   "id": "dea839e5",
   "metadata": {},
   "outputs": [
    {
     "data": {
      "text/plain": [
       "['A', 'F', 'I', 'B']"
      ]
     },
     "execution_count": 23,
     "metadata": {},
     "output_type": "execute_result"
    }
   ],
   "source": [
    "find_path(path, 'A', 'B')"
   ]
  },
  {
   "cell_type": "markdown",
   "id": "16085819-733d-4f95-a32d-aa52c5e35a6e",
   "metadata": {},
   "source": [
    "#### 2. Tìm kiếm theo chiều rộng (DFS)"
   ]
  },
  {
   "cell_type": "code",
   "execution_count": 25,
   "id": "50ebc7cd-f093-4d06-852c-e6c903e27864",
   "metadata": {},
   "outputs": [],
   "source": [
    "import pprint\n",
    "\n",
    "def DFS(G, start, goal):\n",
    "    \"\"\"\n",
    "    return: \n",
    "    + mang chua duong di tu a --> b, neu rong la ko co duong di\n",
    "    + None: dinh a, b khong hop le\n",
    "    \"\"\"\n",
    "    result = None\n",
    "    \n",
    "    if G.get(start) is None or G.get(goal) is None:\n",
    "        result = None\n",
    "    else:\n",
    "        path = {}     # path[a]=b nghia la muon di toi dinh b phai qua a\n",
    "        s_open   = []\n",
    "        s_closed = []\n",
    "        \n",
    "        # đưa start vào open\n",
    "        s_open.append(start)    \n",
    "        path[start] = None\n",
    "        while len(s_open)>0:\n",
    "            \"\"\" CÁC BẠN LÀM BÀI Ở ĐÂY \"\"\"\n",
    "            # ...\n",
    "            current = s_open.pop()\n",
    "            # if current == goal:\n",
    "            #     break\n",
    "            s_closed.append(current)\n",
    "\n",
    "            for neighbor in G[current]:\n",
    "                if neighbor not in path:\n",
    "                    path[neighbor] = current\n",
    "                    s_open.append(neighbor)\n",
    "            pass\n",
    "        \n",
    "    return path"
   ]
  },
  {
   "cell_type": "code",
   "execution_count": 26,
   "id": "c96fea62",
   "metadata": {},
   "outputs": [
    {
     "name": "stdout",
     "output_type": "stream",
     "text": [
      "{'A': None,\n",
      " 'B': 'I',\n",
      " 'C': 'A',\n",
      " 'D': 'A',\n",
      " 'E': 'A',\n",
      " 'F': 'A',\n",
      " 'G': 'F',\n",
      " 'H': 'C',\n",
      " 'I': 'E',\n",
      " 'K': 'E'}\n"
     ]
    }
   ],
   "source": [
    "path = DFS(ADJ, \"A\", \"B\")\n",
    "pprint.pprint(path)"
   ]
  },
  {
   "cell_type": "markdown",
   "id": "d037e84a-1f8c-4388-89f6-9b1e105140da",
   "metadata": {},
   "source": [
    "# Kết thúc"
   ]
  }
 ],
 "metadata": {
  "kernelspec": {
   "display_name": "Python 3",
   "language": "python",
   "name": "python3"
  },
  "language_info": {
   "codemirror_mode": {
    "name": "ipython",
    "version": 3
   },
   "file_extension": ".py",
   "mimetype": "text/x-python",
   "name": "python",
   "nbconvert_exporter": "python",
   "pygments_lexer": "ipython3",
   "version": "3.10.7"
  }
 },
 "nbformat": 4,
 "nbformat_minor": 5
}
